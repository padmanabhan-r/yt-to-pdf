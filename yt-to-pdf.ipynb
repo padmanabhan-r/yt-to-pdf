{
 "cells": [
  {
   "cell_type": "code",
   "execution_count": 1,
   "id": "21da6a1b",
   "metadata": {},
   "outputs": [],
   "source": [
    "from skimage.metrics import structural_similarity as ssim\n",
    "import cv2\n",
    "\n",
    "def is_different(img1, img2, threshold=0.95):\n",
    "    gray1 = cv2.cvtColor(img1, cv2.COLOR_BGR2GRAY)\n",
    "    gray2 = cv2.cvtColor(img2, cv2.COLOR_BGR2GRAY)\n",
    "    score, _ = ssim(gray1, gray2, full=True)\n",
    "    return score < threshold  # If similarity is lower than threshold, consider different"
   ]
  },
  {
   "cell_type": "code",
   "execution_count": null,
   "id": "37690302",
   "metadata": {},
   "outputs": [],
   "source": [
    "import cv2\n",
    "import os\n",
    "\n",
    "video_path = \"video.mp4\"\n",
    "output_folder = \"questions_1fps\"\n",
    "os.makedirs(output_folder, exist_ok=True)\n",
    "\n",
    "cap = cv2.VideoCapture(video_path)\n",
    "fps = cap.get(cv2.CAP_PROP_FPS)\n",
    "\n",
    "interval = int(fps * 1)  # check every 1 second\n",
    "frame_id = 0\n",
    "saved = 0\n",
    "prev_frame = None\n",
    "\n",
    "while cap.isOpened():\n",
    "    ret, frame = cap.read()\n",
    "    if not ret:\n",
    "        break\n",
    "\n",
    "    if frame_id % interval == 0:\n",
    "        if prev_frame is None or is_different(prev_frame, frame):\n",
    "            filename = os.path.join(output_folder, f\"question_{saved:03d}.jpg\")\n",
    "            cv2.imwrite(filename, frame)\n",
    "            saved += 1\n",
    "            prev_frame = frame\n",
    "\n",
    "    frame_id += 1\n",
    "\n",
    "cap.release()\n",
    "print(f\"✅ Done. Saved {saved} unique frames to '{output_folder}'\")\n"
   ]
  },
  {
   "cell_type": "code",
   "execution_count": null,
   "id": "d79162e6",
   "metadata": {},
   "outputs": [
    {
     "name": "stdout",
     "output_type": "stream",
     "text": [
      "✅ PDF saved as 'questions.pdf'\n"
     ]
    }
   ],
   "source": [
    "from PIL import Image\n",
    "import glob\n",
    "\n",
    "# Load all image files\n",
    "images = [Image.open(f).convert(\"RGB\") for f in sorted(glob.glob(\"questions/*.jpg\"))]\n",
    "\n",
    "# Save as single PDF\n",
    "if images:\n",
    "    images[0].save(\"questions_1fps.pdf\", save_all=True, append_images=images[1:])\n",
    "    print(\"✅ PDF saved as 'questions.pdf'\")\n",
    "else:\n",
    "    print(\"❌ No images found to convert.\")\n"
   ]
  },
  {
   "cell_type": "code",
   "execution_count": null,
   "id": "94f6765b",
   "metadata": {},
   "outputs": [],
   "source": []
  }
 ],
 "metadata": {
  "kernelspec": {
   "display_name": ".venv",
   "language": "python",
   "name": "python3"
  },
  "language_info": {
   "codemirror_mode": {
    "name": "ipython",
    "version": 3
   },
   "file_extension": ".py",
   "mimetype": "text/x-python",
   "name": "python",
   "nbconvert_exporter": "python",
   "pygments_lexer": "ipython3",
   "version": "3.13.3"
  }
 },
 "nbformat": 4,
 "nbformat_minor": 5
}
